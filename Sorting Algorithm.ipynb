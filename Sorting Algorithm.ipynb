{
 "cells": [
  {
   "cell_type": "markdown",
   "id": "b4806019",
   "metadata": {},
   "source": [
    "# Sorting Algorithm - Bubble sort"
   ]
  },
  {
   "cell_type": "markdown",
   "id": "102f62f6",
   "metadata": {},
   "source": [
    "Credit: Geeksforgeeks\n",
    "    \n",
    "Sequence: 2, 23, 10, 1\n",
    "\n",
    "First Iteration\n",
    "\n",
    "(2, 23, 10, 1) –> (2, 23, 10, 1), Here the first 2 elements are compared and remain the same because they are already in ascending order.\n",
    "\n",
    "(2, 23, 10, 1) –> (2, 10, 23, 1), Here 2nd and 3rd elements are compared and swapped(10 is less than 23) according to ascending order.\n",
    "\n",
    "(2, 10, 23, 1) –> (2, 10, 1, 23), Here 3rd and 4th elements are compared and swapped(1 is less than 23) according to ascending order\n",
    "\n",
    "At the end of the first iteration, the largest element is at the rightmost position which is sorted correctly.\n",
    "\n",
    "Second Iteration\n",
    "\n",
    "(2, 10, 1, 23) –> (2, 10, 1, 23), Here again, the first 2 elements are compared and remain the same because they are already in ascending order.\n",
    "\n",
    "(2, 10, 1, 23) –> (2, 1, 10, 23), Here 2nd and 3rd elements are compared and swapped(1 is less than 10) in ascending order.\n",
    "\n",
    "At the end of the second iteration, the second largest element is at the adjacent position to the largest element.\n",
    "\n",
    "Third Iteration\n",
    "\n",
    "(2, 1, 10, 23) –> (1, 2, 10, 23), Here the first 2 elements are compared and swap according to ascending order.\n",
    "\n",
    "The remaining elements are already sorted in the first and second Iterations. After the three iterations, the given array is sorted in ascending order. So the final result is 1, 2, 10, 23."
   ]
  },
  {
   "cell_type": "code",
   "execution_count": 1,
   "id": "fa5d4f9f",
   "metadata": {},
   "outputs": [
    {
     "name": "stdout",
     "output_type": "stream",
     "text": [
      "Sorted array is:\n",
      "1\n",
      "2\n",
      "10\n",
      "23\n"
     ]
    }
   ],
   "source": [
    "# Python3 program for Bubble Sort Algorithm Implementation\n",
    "def bubbleSort(arr):\n",
    "\t\n",
    "\tn = len(arr)\n",
    "\n",
    "\t# Responsible for # of times it goes through\n",
    "    #array to compare #'s\n",
    "\tfor i in range(n):\n",
    "        #responsible for what numbers to compare at n times for traversing\n",
    "        #through the array\n",
    "\t\tfor j in range(0, n - i - 1):\n",
    "\t\t\t\n",
    "\t\t\t# Range of the array is from 0 to n-i-1\n",
    "\t\t\t# Swap the elements if the element found\n",
    "\t\t\t#is greater than the adjacent element\n",
    "\t\t\tif arr[j] > arr[j + 1]:\n",
    "\t\t\t\tarr[j], arr[j + 1] = arr[j + 1], arr[j]\n",
    "\t\t\t\t\n",
    "# Driver code\n",
    "\n",
    "# Example to test the above code\n",
    "arr = [ 2, 1, 10, 23 ]\n",
    "\n",
    "bubbleSort(arr)\n",
    "\n",
    "print(\"Sorted array is:\")\n",
    "for i in range(len(arr)):\n",
    "    #the 5 puts output in string format\n",
    "\tprint(\"%d\" % arr[i])\n"
   ]
  },
  {
   "cell_type": "markdown",
   "id": "9a11d0e4",
   "metadata": {},
   "source": [
    "# Selection Sort"
   ]
  },
  {
   "cell_type": "code",
   "execution_count": null,
   "id": "02490e2a",
   "metadata": {},
   "outputs": [],
   "source": []
  }
 ],
 "metadata": {
  "kernelspec": {
   "display_name": "Python 3 (ipykernel)",
   "language": "python",
   "name": "python3"
  },
  "language_info": {
   "codemirror_mode": {
    "name": "ipython",
    "version": 3
   },
   "file_extension": ".py",
   "mimetype": "text/x-python",
   "name": "python",
   "nbconvert_exporter": "python",
   "pygments_lexer": "ipython3",
   "version": "3.10.9"
  }
 },
 "nbformat": 4,
 "nbformat_minor": 5
}
