{
 "cells": [
  {
   "cell_type": "markdown",
   "id": "088b7149",
   "metadata": {},
   "source": [
    "# Stacks"
   ]
  },
  {
   "attachments": {
    "image.png": {
     "image/png": "[encoded data removed]"
    }
   },
   "cell_type": "markdown",
   "id": "063d934f",
   "metadata": {},
   "source": [
    "![image.png](attachment:image.png)\n",
    "\n",
    "### LIFO - Last in First out"
   ]
  },
  {
   "cell_type": "code",
   "execution_count": 1,
   "id": "2819b0f6",
   "metadata": {},
   "outputs": [],
   "source": [
    "#1- initialize stack\n",
    "\n",
    "my_stack = []"
   ]
  },
  {
   "cell_type": "code",
   "execution_count": 4,
   "id": "c5a2fdc5",
   "metadata": {},
   "outputs": [
    {
     "name": "stdout",
     "output_type": "stream",
     "text": [
      "This is my stack:  ['Sonic', 'Tails', 'Knuckles', 'Sonic', 'Tails', 'Knuckles', 'Sonic', 'Tails', 'Knuckles']\n"
     ]
    }
   ],
   "source": [
    "#2- add to stack\n",
    "\n",
    "my_stack.append(\"Sonic\")\n",
    "my_stack.append(\"Tails\")\n",
    "my_stack.append(\"Knuckles\")\n",
    "\n",
    "print(\"This is my stack: \", my_stack)\n"
   ]
  },
  {
   "cell_type": "code",
   "execution_count": 13,
   "id": "3a1b5004",
   "metadata": {},
   "outputs": [
    {
     "name": "stdout",
     "output_type": "stream",
     "text": [
      "[]\n"
     ]
    }
   ],
   "source": [
    "#3 - Remove items \n",
    "\n",
    "my_stack.pop()\n",
    "\n",
    "print(my_stack)"
   ]
  },
  {
   "cell_type": "code",
   "execution_count": 16,
   "id": "a1375315",
   "metadata": {},
   "outputs": [
    {
     "data": {
      "text/plain": [
       "0"
      ]
     },
     "execution_count": 16,
     "metadata": {},
     "output_type": "execute_result"
    }
   ],
   "source": [
    "from queue import LifoQueue\n",
    "\n",
    "#initialize stack\n",
    "my_stack = LifoQueue(maxsize = 3)\n",
    "my_stack.qsize()"
   ]
  },
  {
   "cell_type": "code",
   "execution_count": 17,
   "id": "0f7ad5e6",
   "metadata": {},
   "outputs": [
    {
     "data": {
      "text/plain": [
       "1"
      ]
     },
     "execution_count": 17,
     "metadata": {},
     "output_type": "execute_result"
    }
   ],
   "source": [
    "#insert into stack\n",
    "my_stack.put(\"Sonic\")\n",
    "my_stack.qsize()"
   ]
  },
  {
   "cell_type": "code",
   "execution_count": 18,
   "id": "2ca363fe",
   "metadata": {},
   "outputs": [
    {
     "data": {
      "text/plain": [
       "3"
      ]
     },
     "execution_count": 18,
     "metadata": {},
     "output_type": "execute_result"
    }
   ],
   "source": [
    "my_stack.put(\"Tails\")\n",
    "my_stack.put(\"Knuckles\")\n",
    "my_stack.qsize()"
   ]
  },
  {
   "cell_type": "code",
   "execution_count": 19,
   "id": "8210208d",
   "metadata": {},
   "outputs": [
    {
     "name": "stdout",
     "output_type": "stream",
     "text": [
      "Stack full:  True\n"
     ]
    }
   ],
   "source": [
    "#Show if stack full\n",
    "\n",
    "print(\"Stack full: \", my_stack.full())"
   ]
  },
  {
   "cell_type": "code",
   "execution_count": 20,
   "id": "97d02ebd",
   "metadata": {},
   "outputs": [
    {
     "data": {
      "text/plain": [
       "0"
      ]
     },
     "execution_count": 20,
     "metadata": {},
     "output_type": "execute_result"
    }
   ],
   "source": [
    "#Remove items from stack\n",
    "\n",
    "my_stack.get()\n",
    "my_stack.get()\n",
    "my_stack.get()\n",
    "my_stack.qsize()"
   ]
  },
  {
   "cell_type": "code",
   "execution_count": 21,
   "id": "33e4e119",
   "metadata": {
    "scrolled": true
   },
   "outputs": [
    {
     "name": "stdout",
     "output_type": "stream",
     "text": [
      "Stack full:  False\n"
     ]
    }
   ],
   "source": [
    "#Show if stack full\n",
    "\n",
    "print(\"Stack full: \", my_stack.full())"
   ]
  },
  {
   "cell_type": "markdown",
   "id": "8c69c68a",
   "metadata": {},
   "source": [
    "# Stack from linked list:\n",
    "\n",
    "Link: https://www.techiedelight.com/stack-implementation-using-linked-list/\n",
    "\n",
    "Full set questions: https://medium.com/techie-delight/stack-data-structure-practice-problems-and-interview-questions-9f08a35a7f19"
   ]
  }
 ],
 "metadata": {
  "kernelspec": {
   "display_name": "Python 3 (ipykernel)",
   "language": "python",
   "name": "python3"
  },
  "language_info": {
   "codemirror_mode": {
    "name": "ipython",
    "version": 3
   },
   "file_extension": ".py",
   "mimetype": "text/x-python",
   "name": "python",
   "nbconvert_exporter": "python",
   "pygments_lexer": "ipython3",
   "version": "3.10.9"
  }
 },
 "nbformat": 4,
 "nbformat_minor": 5
}
